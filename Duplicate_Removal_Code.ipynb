{
  "nbformat": 4,
  "nbformat_minor": 0,
  "metadata": {
    "colab": {
      "name": "Duplicate Removal Code.ipynb",
      "provenance": []
    },
    "kernelspec": {
      "name": "python3",
      "display_name": "Python 3"
    }
  },
  "cells": [
    {
      "cell_type": "code",
      "metadata": {
        "id": "QHsx0CIZRSwL"
      },
      "source": [
        "def remove_duplicate(dataframe,column_name):\n",
        "  '''\n",
        "  This is the module which remove the duplicate value from datframe\n",
        "\n",
        "  Aurguments:\n",
        "  dataframe -> The frame in which duplicate needs to be removed\n",
        "  column_name -> The columns name which action needs to occur\n",
        "\n",
        "  Return value:\n",
        "  final_df -> Dataframe after removing the duplicates\n",
        "  '''  \n",
        "  final_df = df.drop_duplicates(subset=column_name)\n",
        "  return final_df"
      ],
      "execution_count": 1,
      "outputs": []
    }
  ]
}